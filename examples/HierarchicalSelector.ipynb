{
 "cells": [
  {
   "cell_type": "markdown",
   "id": "011424d1-a44d-403b-a801-79d1a4a4fc45",
   "metadata": {},
   "source": [
    "# Hierarchical selector\n",
    "Example of hierarchical selection on a fake dataset"
   ]
  },
  {
   "cell_type": "code",
   "execution_count": 7,
   "id": "b7795e97-84c6-423c-bc61-d7dfb9e43032",
   "metadata": {},
   "outputs": [],
   "source": [
    "import sys\n",
    "sys.path.append(\"..\")\n",
    "from sklearn.datasets import make_classification\n",
    "from sklearn.linear_model import LogisticRegression\n",
    "from sklearn.model_selection import train_test_split, GridSearchCV\n",
    "from sklearn.pipeline import Pipeline\n",
    "from sklearn.ensemble import VotingClassifier\n",
    "\n",
    "from src.hierarchical_cluster_selector import HierachicalClusterSelector\n"
   ]
  },
  {
   "cell_type": "code",
   "execution_count": 13,
   "id": "f9dc6381-f3e1-40b3-b435-19018118f61d",
   "metadata": {},
   "outputs": [],
   "source": [
    "SEED = 98234\n",
    "# Generate a highly correlated dataset and split data\n",
    "X, y = make_classification(\n",
    "    n_samples=500,\n",
    "    n_features=20,\n",
    "    n_informative=2,\n",
    "    n_redundant=4,\n",
    "    n_classes=2,\n",
    "    random_state=SEED\n",
    ")\n",
    "X_train, X_test, y_train, y_test = train_test_split(X, y, test_size=0.33, random_state=SEED)"
   ]
  },
  {
   "cell_type": "code",
   "execution_count": 14,
   "id": "1e8ba7f9-d59c-456a-a4f5-9bf84abb48e5",
   "metadata": {},
   "outputs": [
    {
     "data": {
      "text/plain": [
       "0.9090909090909091"
      ]
     },
     "execution_count": 14,
     "metadata": {},
     "output_type": "execute_result"
    }
   ],
   "source": [
    "# fit a simple logistic regression\n",
    "lr = LogisticRegression()\n",
    "lr.fit(X_train, y_train)\n",
    "lr.score(X_test, y_test)"
   ]
  },
  {
   "cell_type": "code",
   "execution_count": 15,
   "id": "3f0943fe-4018-45a9-9768-0a67f16f9532",
   "metadata": {},
   "outputs": [
    {
     "data": {
      "text/plain": [
       "0.49696969696969695"
      ]
     },
     "execution_count": 15,
     "metadata": {},
     "output_type": "execute_result"
    }
   ],
   "source": [
    "# fit a pipeline with feature selection\n",
    "clf = Pipeline([\n",
    "    ('selector', HierachicalClusterSelector(k=4, random_state=SEED)),\n",
    "    ('lr', LogisticRegression())\n",
    "])\n",
    "clf.fit(X_train, y_train)\n",
    "clf.score(X_test, y_test)"
   ]
  },
  {
   "cell_type": "code",
   "execution_count": 16,
   "id": "e55f6586-44c7-4823-b0e3-e4b6b2988bf2",
   "metadata": {},
   "outputs": [
    {
     "data": {
      "text/plain": [
       "array([ True,  True, False, False, False,  True, False, False, False,\n",
       "       False, False, False, False,  True, False, False, False, False,\n",
       "       False, False])"
      ]
     },
     "execution_count": 16,
     "metadata": {},
     "output_type": "execute_result"
    }
   ],
   "source": [
    "# Show support\n",
    "clf.steps[0][-1].get_support()"
   ]
  },
  {
   "cell_type": "code",
   "execution_count": 18,
   "id": "2dc586b4-66d0-4a19-bde3-11475e6365ad",
   "metadata": {},
   "outputs": [
    {
     "data": {
      "text/plain": [
       "0.9272727272727272"
      ]
     },
     "execution_count": 18,
     "metadata": {},
     "output_type": "execute_result"
    }
   ],
   "source": [
    "# Execute grid search to find the best k/criterion\n",
    "g = GridSearchCV(\n",
    "    estimator=clf,\n",
    "    param_grid={\n",
    "        'selector__k': [3, 4, 5, 6],\n",
    "        'selector__criterion': ['ward', 'single']\n",
    "    }\n",
    ")\n",
    "g.fit(X_train, y_train)\n",
    "g.best_estimator_\n",
    "\n",
    "g.score(X_test, y_test)"
   ]
  },
  {
   "cell_type": "code",
   "execution_count": null,
   "id": "6f646f3e-908f-4297-9f32-0e92daeeb314",
   "metadata": {},
   "outputs": [],
   "source": []
  },
  {
   "cell_type": "code",
   "execution_count": null,
   "id": "fe24b019-ef4e-4221-a0f3-5bb00e6a4ea1",
   "metadata": {},
   "outputs": [],
   "source": []
  }
 ],
 "metadata": {
  "kernelspec": {
   "display_name": "Python 3 (ipykernel)",
   "language": "python",
   "name": "python3"
  },
  "language_info": {
   "codemirror_mode": {
    "name": "ipython",
    "version": 3
   },
   "file_extension": ".py",
   "mimetype": "text/x-python",
   "name": "python",
   "nbconvert_exporter": "python",
   "pygments_lexer": "ipython3",
   "version": "3.11.5"
  }
 },
 "nbformat": 4,
 "nbformat_minor": 5
}
